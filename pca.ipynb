{
 "cells": [
  {
   "cell_type": "markdown",
   "metadata": {},
   "source": [
    "# Biol 359A | Principal component analysis\n",
    "\n",
    "### Spring 2025, Week 9\n",
    "\n",
    "Objectives:\n",
    "1. Understand what PCA is and why it's useful in biology\n",
    "2. Learn how to perform PCA on synthetic data\n",
    "3. Interpret PCA results and visualizations\n",
    "4. Apply PCA to real biological datasets\n",
    "5. Understand common applications in bioinformatics"
   ]
  },
  {
   "cell_type": "code",
   "execution_count": null,
   "metadata": {
    "vscode": {
     "languageId": "plaintext"
    }
   },
   "outputs": [],
   "source": [
    "! rm -r week9_principalComponentAnalysis/\n",
    "!git clone https://github.com/BIOL359A-FoundationsOfQBio-Spr25/week9_principalComponentAnalysis.git\n",
    "! cp -r week9_principalComponentAnalysis/* .\n",
    "! ls"
   ]
  },
  {
   "cell_type": "code",
   "execution_count": null,
   "metadata": {
    "vscode": {
     "languageId": "plaintext"
    }
   },
   "outputs": [],
   "source": [
    "import numpy as np\n",
    "import pandas as pd\n",
    "import matplotlib.pyplot as plt\n",
    "import seaborn as sns\n",
    "from sklearn.decomposition import PCA\n",
    "from sklearn.preprocessing import StandardScaler\n",
    "from sklearn.datasets import make_blobs\n",
    "from mpl_toolkits.mplot3d import Axes3D\n",
    "import warnings\n",
    "from ipywidgets import interact\n",
    "warnings.filterwarnings('ignore')\n",
    "# Set plotting style\n",
    "plt.style.use('seaborn-v0_8')\n",
    "sns.set_palette(\"husl\")"
   ]
  },
  {
   "cell_type": "markdown",
   "metadata": {},
   "source": [
    "## Revist the penguin dataset!"
   ]
  },
  {
   "cell_type": "markdown",
   "metadata": {},
   "source": [
    "A team of researchers did collect a bunch of data about penguins! The [Palmer Penguin dataset](https://allisonhorst.github.io/palmerpenguins/) was collected by [Dr. Kristen Gorman](https://www.uaf.edu/cfos/people/faculty/detail/kristen-gorman.php) at the [Palmer Research Station](https://pallter.marine.rutgers.edu/) in Antarctica. The dataset is commonly used for teaching data analysis techniques."
   ]
  },
  {
   "cell_type": "code",
   "execution_count": null,
   "metadata": {
    "vscode": {
     "languageId": "plaintext"
    }
   },
   "outputs": [],
   "source": [
    "url = \"https://raw.githubusercontent.com/allisonhorst/palmerpenguins/master/inst/extdata/penguins.csv\"\n",
    "\n",
    "# Use Pandas to read the CSV file directly from the URL\n",
    "penguins_df = pd.read_csv(url)"
   ]
  },
  {
   "cell_type": "code",
   "execution_count": null,
   "metadata": {
    "vscode": {
     "languageId": "plaintext"
    }
   },
   "outputs": [],
   "source": [
    "# Load penguins dataset if not already loaded\n",
    "penguins_df = sns.load_dataset(\"penguins\")\n",
    "\n",
    "# Drop rows with missing values\n",
    "penguins_cleaned = penguins_df.dropna()\n",
    "trait_names = penguins_cleaned.select_dtypes(include='number').columns\n",
    "\n",
    "# Define the interactive plotting function\n",
    "@interact(x_feature=trait_names,\n",
    "          y_feature=trait_names)\n",
    "def plot_scatter(x_feature, y_feature):\n",
    "    x = penguins_cleaned[x_feature]\n",
    "    y = penguins_cleaned[y_feature]\n",
    "\n",
    "    plt.figure(figsize=(10, 6))\n",
    "    plt.subplot(1, 2, 1)\n",
    "    correlation_matrix = penguins_cleaned[trait_names].corr()\n",
    "    sns.heatmap(correlation_matrix, annot=True, cmap='coolwarm', center=0, square=True)\n",
    "    plt.title('Correlation Matrix of Traits')\n",
    "\n",
    "    plt.subplot(1, 2, 2)\n",
    "    plt.scatter(x, y, color='blue')\n",
    "    plt.title(f'Scatter plot of selected features')\n",
    "    plt.xlabel(f'{x_feature}')\n",
    "    plt.ylabel(f'{y_feature}')\n",
    "    plt.grid(True)\n",
    "    plt.show()"
   ]
  },
  {
   "cell_type": "markdown",
   "metadata": {},
   "source": [
    "### Perform PCA on the penguin dataset"
   ]
  },
  {
   "cell_type": "code",
   "execution_count": null,
   "metadata": {
    "vscode": {
     "languageId": "plaintext"
    }
   },
   "outputs": [],
   "source": [
    "# Step 1: Prepare the data\n",
    "X = penguins_cleaned[trait_names].values\n",
    "print(f\"Original data shape: {X.shape}\")\n",
    "\n",
    "# Step 2: Standardize the data (important for PCA!)\n",
    "scaler = StandardScaler()\n",
    "X_scaled = scaler.fit_transform(X)\n",
    "print(\"Data standardized (mean=0, std=1 for each feature)\")\n",
    "print(f\"Standarized mean = {np.mean(X_scaled):2f}, std = {np.std(X_scaled):2f}\")\n",
    "\n",
    "# Step 3: Apply PCA\n",
    "pca = PCA(n_components=4) # I know it is trivial to perform PCA a 4D vector into 4D dimension\n",
    "X_pca = pca.fit_transform(X_scaled)\n",
    "\n",
    "# Step 4: Examine the results\n",
    "print(f\"\\nPCA Results:\")\n",
    "print(f\"Number of components: {pca.n_components_}\")\n",
    "print(f\"Explained variance ratio: {pca.explained_variance_ratio_.round(3)}\")\n",
    "print(f\"Cumulative explained variance: {pca.explained_variance_ratio_.cumsum().round(3)}\")\n",
    "\n",
    "# Visualize explained variance\n",
    "plt.figure(figsize=(12, 4))\n",
    "\n",
    "plt.subplot(1, 2, 1)\n",
    "plt.bar(range(1, len(pca.explained_variance_ratio_) + 1), \n",
    "        pca.explained_variance_ratio_, alpha=0.7, color='skyblue')\n",
    "plt.xlabel('Principal Component')\n",
    "plt.ylabel('Explained Variance Ratio')\n",
    "plt.title('Explained Variance by Component')\n",
    "plt.xticks(range(1, len(pca.explained_variance_ratio_) + 1))\n",
    "\n",
    "plt.subplot(1, 2, 2)\n",
    "plt.plot(range(1, len(pca.explained_variance_ratio_.cumsum()) + 1), \n",
    "         pca.explained_variance_ratio_.cumsum(), 'o-', color='red')\n",
    "plt.axhline(y=0.8, color='gray', linestyle='--', alpha=0.7, label='80% threshold')\n",
    "plt.xlabel('Number of Components')\n",
    "plt.ylabel('Cumulative Explained Variance')\n",
    "plt.title('Cumulative Explained Variance')\n",
    "plt.legend()\n",
    "plt.grid(True, alpha=0.3)\n",
    "\n",
    "plt.tight_layout()\n",
    "plt.show()"
   ]
  },
  {
   "cell_type": "markdown",
   "metadata": {},
   "source": [
    "### Interpret the PCA result"
   ]
  },
  {
   "cell_type": "code",
   "execution_count": null,
   "metadata": {
    "vscode": {
     "languageId": "plaintext"
    }
   },
   "outputs": [],
   "source": [
    "df_pca = pd.DataFrame(X_pca, columns=[f'PC{i+1}' for i in range(pca.n_components_)])\n",
    "df_pca['species'] = penguins_cleaned['species']\n",
    "\n",
    "# Plot PCA results\n",
    "plt.figure(figsize=(18, 6))\n",
    "plt.subplot(1, 2, 1)\n",
    "# Plot data points\n",
    "colors = [\"red\", \"blue\", \"green\"]\n",
    "species_colors_dict = {species: color for (species, color) in zip(penguins_cleaned['species'].unique(), colors)}\n",
    "\n",
    "for species in df_pca['species'].unique():\n",
    "    mask = df_pca['species'] == species\n",
    "    plt.scatter(df_pca.loc[mask, 'PC1'], df_pca.loc[mask, 'PC2'], \n",
    "               c=species_colors_dict[species], alpha=0.6, label=species)\n",
    "\n",
    "# Plot loading vectors\n",
    "scale_factor = 3\n",
    "for i, trait in enumerate(trait_names):\n",
    "    plt.arrow(0, 0, loadings.iloc[i, 0] * scale_factor, loadings.iloc[i, 1] * scale_factor,\n",
    "             head_width=0.1, head_length=0.1, fc='black', ec='black', alpha=0.8)\n",
    "    modified_text = trait.replace('_mm', '').replace('_g', '').replace('_', ' ')\n",
    "    plt.text(loadings.iloc[i, 0] * scale_factor * 1.15, \n",
    "             loadings.iloc[i, 1] * scale_factor * 1.15, \n",
    "             modified_text, ha='center', va='center', fontsize=12)\n",
    "\n",
    "plt.xlabel(f'PC1 ({pca.explained_variance_ratio_[0]:.1%})')\n",
    "plt.ylabel(f'PC2 ({pca.explained_variance_ratio_[1]:.1%})')\n",
    "plt.title('PCA Biplot\\n(Data + Loading Vectors)')\n",
    "plt.legend()\n",
    "plt.grid(True, alpha=0.7)\n",
    "\n",
    "# 3D plot for first three components\n",
    "ax = plt.subplot(1, 2, 2, projection='3d')\n",
    "for species in df_pca['species'].unique():\n",
    "    mask = df_pca['species'] == species\n",
    "    ax.scatter(df_pca.loc[mask, 'PC1'], df_pca.loc[mask, 'PC2'], df_pca.loc[mask, 'PC3'],\n",
    "              c=species_colors_dict[species], alpha=0.6, label=species)\n",
    "ax.set_xlabel(f'PC1 ({pca.explained_variance_ratio_[0]:.1%})')\n",
    "ax.set_ylabel(f'PC2 ({pca.explained_variance_ratio_[1]:.1%})')\n",
    "ax.set_zlabel(f'PC3 ({pca.explained_variance_ratio_[2]:.1%})')\n",
    "ax.set_title('3D PCA Plot')\n",
    "ax.legend()\n",
    "\n",
    "plt.tight_layout()\n",
    "plt.subplots_adjust(left=0.05, right=0.90, wspace=0.01)"
   ]
  },
  {
   "cell_type": "markdown",
   "metadata": {},
   "source": [
    "## Real breast cancer data from the[ Wisconsin Diagnostic Breast Cancer Database (WDBC)](https://archive.ics.uci.edu/dataset/17/breast+cancer+wisconsin+diagnostic)."
   ]
  },
  {
   "cell_type": "code",
   "execution_count": null,
   "metadata": {
    "vscode": {
     "languageId": "plaintext"
    }
   },
   "outputs": [],
   "source": [
    "import clean_data\n",
    "\n",
    "cancer_dataset = clean_data.generate_clean_dataframe()\n",
    "cancer_dataset"
   ]
  },
  {
   "cell_type": "code",
   "execution_count": null,
   "metadata": {
    "vscode": {
     "languageId": "plaintext"
    }
   },
   "outputs": [],
   "source": [
    "import ipywidgets as widgets\n",
    "cancer_dataset_reset = cancer_dataset.reset_index()\n",
    "cancer_dataset_reset.columns = ['ID', 'diagnosis'] + list(cancer_dataset_reset.columns[2:])\n",
    "\n",
    "def plot_column(column):\n",
    "    # Define colors for consistent use in plots\n",
    "    colors = {'B': 'skyblue', 'M': 'salmon'}\n",
    "\n",
    "    # Calculate summary statistics for each diagnosis\n",
    "    ordered_diagnoses = ['M', 'B']\n",
    "    diagnoses_abbr_name = {'M':'malignant', 'B': 'benign'}\n",
    "    stats_df = cancer_dataset_reset.groupby('diagnosis')[column].describe().reindex(ordered_diagnoses)\n",
    "\n",
    "    # Plotting\n",
    "    plt.figure(figsize=(10, 4))\n",
    "\n",
    "    # Plot boxplot\n",
    "    sns.boxplot(y='diagnosis', x=column, hue='diagnosis', data=cancer_dataset_reset, orient='h', palette=colors, dodge=False)\n",
    "    plt.title(f'Box plot of {column} by Diagnosis')\n",
    "    plt.ylabel('Diagnosis')\n",
    "    plt.xlabel(column)\n",
    "\n",
    "    # Plot the mean as a black diamond ('D')\n",
    "    means = cancer_dataset_reset.groupby('diagnosis')[column].mean().reindex(ordered_diagnoses)\n",
    "    for diagnosis, mean in means.items():\n",
    "        y_pos = ordered_diagnoses.index(diagnosis)\n",
    "        label = f'Mean {diagnoses_abbr_name[diagnosis]}'\n",
    "        plt.plot(mean, y_pos, 'D', color='black', markersize=3, label=label)\n",
    "\n",
    "    # Display summary statistics table below the boxplot\n",
    "    table_ax = plt.table(cellText=stats_df.round(2).values,\n",
    "                         colLabels=stats_df.columns,\n",
    "                         rowLabels=stats_df.index,\n",
    "                         cellLoc='center', rowLoc='center',\n",
    "                         loc='bottom', bbox=[0, -0.5, 1, 0.3])\n",
    "    plt.legend()\n",
    "    plt.subplots_adjust(left=0.2, bottom=0.2)\n",
    "\n",
    "    plt.show()\n",
    "\n",
    "# Create a dropdown menu for selecting the column to plot\n",
    "dropdown_columns = widgets.Dropdown(\n",
    "    options=[col for col in cancer_dataset_reset.columns if col not in ['ID', 'diagnosis']],\n",
    "    description='Column:',\n",
    "    disabled=False,\n",
    ")\n",
    "\n",
    "# Display the dropdown and plot the selected column\n",
    "_ = widgets.interact(plot_column, column=dropdown_columns)\n"
   ]
  },
  {
   "cell_type": "markdown",
   "metadata": {},
   "source": [
    "### Perform PCA on the breast cancer dataset"
   ]
  },
  {
   "cell_type": "code",
   "execution_count": null,
   "metadata": {
    "vscode": {
     "languageId": "plaintext"
    }
   },
   "outputs": [],
   "source": [
    "# Prepare data\n",
    "feature_names = cancer_dataset_reset.select_dtypes(include='number').columns\n",
    "X_cancer = cancer_dataset_reset[feature_names].values\n",
    "y_cancer = cancer_dataset_reset['diagnosis'].values\n",
    "\n",
    "# Standardize\n",
    "scaler = StandardScaler()\n",
    "X_cancer_scaled = scaler.fit_transform(X_cancer)\n",
    "\n",
    "# Apply PCA\n",
    "pca_cancer = PCA()\n",
    "X_cancer_pca = pca_cancer.fit_transform(X_cancer_scaled)\n",
    "df_cancer_pca = pd.DataFrame(X_cancer_pca[:, :2], columns=['PC1', 'PC2'])\n",
    "df_cancer_pca['diagnosis'] = y_cancer\n",
    "print(\"PCA Results for Iris Dataset:\")\n",
    "print(f\"Explained variance ratio: {pca_cancer.explained_variance_ratio_.round(3)}\")\n",
    "print(f\"Cumulative explained variance: {pca_cancer.explained_variance_ratio_.cumsum().round(3)}\")\n",
    "\n",
    "# How many components needed for 95% variance?\n",
    "cumvar = pca_cancer.explained_variance_ratio_.cumsum()\n",
    "n_components_95 = np.argmax(cumvar >= 0.95) + 1\n",
    "print(f\"Components needed for 95% variance: {n_components_95}\")\n",
    "\n",
    "loadings_cancer = pd.DataFrame(\n",
    "    pca_cancer.components_.T,\n",
    "    columns=[f'PC{i+1}' for i in range(pca_cancer.n_components_)],\n",
    "    index=feature_names\n",
    ")\n",
    "\n",
    "# Visualize Iris PCA results\n",
    "plt.figure(figsize=(16, 4))\n",
    "\n",
    "# Explained variance\n",
    "plt.subplot(1, 4, 1)\n",
    "plt.bar(range(1, len(pca_cancer.explained_variance_ratio_) + 1), \n",
    "        pca_cancer.explained_variance_ratio_, alpha=0.7)\n",
    "plt.xlabel('Principal Component')\n",
    "plt.ylabel('Explained Variance Ratio')\n",
    "plt.title('Explained Variance - Cancer Dataset')\n",
    "\n",
    "# Cumulative variance\n",
    "plt.subplot(1, 4, 2)\n",
    "plt.plot(range(1, len(cumvar) + 1), cumvar, 'o-')\n",
    "plt.axhline(y=0.95, color='red', linestyle='--', alpha=0.7, label='95%')\n",
    "plt.xlabel('Number of Components')\n",
    "plt.ylabel('Cumulative Explained Variance')\n",
    "plt.title('Cumulative Explained Variance')\n",
    "plt.legend()\n",
    "plt.grid(True, alpha=0.3)\n",
    "\n",
    "diag_colors_dict = {\"B\": \"blue\", \"M\": \"red\"}\n",
    "plt.subplot(1, 4, 3)\n",
    "# Plot points\n",
    "for species in [\"M\", \"B\"]:\n",
    "    mask = df_cancer_pca['diagnosis'] == species\n",
    "    plt.scatter(df_cancer_pca.loc[mask, 'PC1'], df_cancer_pca.loc[mask, 'PC2'], \n",
    "               c=diag_colors_dict[species], alpha=0.6, label=species)\n",
    "\n",
    "# Plot loading vectors\n",
    "if 0:\n",
    "  scale = 2.5\n",
    "  for i, feature in enumerate(feature_names):\n",
    "      plt.arrow(0, 0, loadings_cancer.iloc[i, 0] * scale, loadings_cancer.iloc[i, 1] * scale,\n",
    "              head_width=0.1, head_length=0.1, fc='black', ec='black', alpha=0.8)\n",
    "      plt.text(loadings_cancer.iloc[i, 0] * scale * 1.1, \n",
    "              loadings_cancer.iloc[i, 1] * scale * 1.1, \n",
    "              feature.replace(' (cm)', '').replace(' ', '\\n'), \n",
    "              ha='center', va='center', fontsize=8)\n",
    "\n",
    "plt.xlabel(f'PC1 ({pca_cancer.explained_variance_ratio_[0]:.1%})')\n",
    "plt.ylabel(f'PC2 ({pca_cancer.explained_variance_ratio_[1]:.1%})')\n",
    "plt.title('Iris PCA Biplot')\n",
    "plt.legend()\n",
    "plt.grid(True, alpha=0.3)\n",
    "\n",
    "# PC1 vs PC3\n",
    "plt.subplot(1, 4, 4)\n",
    "for species in [\"M\", \"B\"]:\n",
    "    mask = df_cancer_pca['diagnosis'] == species\n",
    "    plt.scatter(X_cancer_pca[mask, 0], X_cancer_pca[mask, 2], \n",
    "               c=diag_colors_dict[species], alpha=0.7, label=species, s=50)\n",
    "\n",
    "plt.xlabel(f'PC1 ({pca_cancer.explained_variance_ratio_[0]:.1%})')\n",
    "plt.ylabel(f'PC3 ({pca_cancer.explained_variance_ratio_[2]:.1%})')\n",
    "plt.title('PC1 vs PC3')\n",
    "plt.legend()\n",
    "plt.grid(True, alpha=0.3)\n",
    "\n",
    "plt.tight_layout()\n",
    "plt.show()\n",
    "print(\"\\nComponent Loadings:\")\n",
    "print(loadings_cancer.round(3))"
   ]
  }
 ],
 "metadata": {
  "kernelspec": {
   "display_name": "Python 3",
   "language": "python",
   "name": "python3"
  },
  "language_info": {
   "codemirror_mode": {
    "name": "ipython",
    "version": 3
   },
   "file_extension": ".py",
   "mimetype": "text/x-python",
   "name": "python",
   "nbconvert_exporter": "python",
   "pygments_lexer": "ipython3",
   "version": "3.12.2"
  }
 },
 "nbformat": 4,
 "nbformat_minor": 4
}
